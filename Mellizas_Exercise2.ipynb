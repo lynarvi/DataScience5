{
 "cells": [
  {
   "cell_type": "code",
   "execution_count": 1,
   "metadata": {
    "collapsed": true
   },
   "outputs": [],
   "source": [
    "import pandas as pd"
   ]
  },
  {
   "cell_type": "code",
   "execution_count": 3,
   "outputs": [
    {
     "name": "stdout",
     "output_type": "stream",
     "text": [
      "    Average_Pulse Max_Pulse  Calorie_Burnage Hours_Work  Hours_Sleep\n",
      "0              30        80              120         10          7.0\n",
      "1              35        85              125         10          7.0\n",
      "2              40        90              130          8          7.0\n",
      "3              45        95              135          8          7.0\n",
      "4              50       100              140          0          7.0\n",
      "5              55       NaN              145        Nan          NaN\n",
      "6              60       105              150          7          8.0\n",
      "7              65       110              155          7          8.0\n",
      "8              70       NaN              160          8          8.0\n",
      "9              75       NaN              165          8          8.0\n",
      "10             80       120              170          0          8.0\n",
      "11             85     9 000              175        NaN          8.0\n",
      "12             90       125              180          8          8.0\n",
      "13             95       125              185          8          7.0\n",
      "14            100       125              190          8          7.0\n",
      "15            105       130              195          8          6.0\n",
      "16            110       120              200          8          8.0\n",
      "17            115       125              205          8          8.0\n",
      "18            120       123              210          8          8.0\n",
      "19            125       125              215          8          8.0\n",
      "20            130       120              220          8          8.0\n",
      "21            135       120              225          8          8.0\n"
     ]
    }
   ],
   "source": [
    "data = pd.read_csv(\"D:\\health_datafile_2.csv\")\n",
    "print(data)"
   ],
   "metadata": {
    "collapsed": false,
    "pycharm": {
     "name": "#%%\n"
    }
   }
  },
  {
   "cell_type": "code",
   "execution_count": 32,
   "outputs": [
    {
     "name": "stdout",
     "output_type": "stream",
     "text": [
      "   Average_Pulse  Max_Pulse  Calorie_Burnage  Hours_Work  Hours_Sleep\n",
      "0           30.0       80.0            120.0        10.0          7.0\n",
      "1           35.0       85.0            125.0        10.0          7.0\n",
      "2           40.0       90.0            130.0         8.0          7.0\n",
      "3           45.0       95.0            135.0         8.0          7.0\n",
      "4           50.0      100.0            140.0         0.0          7.0\n"
     ]
    }
   ],
   "source": [
    "print(data.head())"
   ],
   "metadata": {
    "collapsed": false,
    "pycharm": {
     "name": "#%%\n"
    }
   }
  },
  {
   "cell_type": "code",
   "execution_count": 23,
   "outputs": [
    {
     "name": "stdout",
     "output_type": "stream",
     "text": [
      "    Average_Pulse Max_Pulse  Calorie_Burnage Hours_Work  Hours_Sleep\n",
      "0              30        80              120         10          7.0\n",
      "1              35        85              125         10          7.0\n",
      "2              40        90              130          8          7.0\n",
      "3              45        95              135          8          7.0\n",
      "4              50       100              140          0          7.0\n",
      "6              60       105              150          7          8.0\n",
      "7              65       110              155          7          8.0\n",
      "10             80       120              170          0          8.0\n",
      "12             90       125              180          8          8.0\n",
      "13             95       125              185          8          7.0\n",
      "14            100       125              190          8          7.0\n",
      "15            105       130              195          8          6.0\n",
      "16            110       120              200          8          8.0\n",
      "17            115       125              205          8          8.0\n",
      "18            120       123              210          8          8.0\n",
      "19            125       125              215          8          8.0\n",
      "20            130       120              220          8          8.0\n",
      "21            135       120              225          8          8.0\n"
     ]
    }
   ],
   "source": [
    "data = data.dropna()\n",
    "print(data)"
   ],
   "metadata": {
    "collapsed": false,
    "pycharm": {
     "name": "#%%\n"
    }
   }
  },
  {
   "cell_type": "code",
   "execution_count": 31,
   "outputs": [
    {
     "name": "stdout",
     "output_type": "stream",
     "text": [
      "<class 'pandas.core.frame.DataFrame'>\n",
      "Int64Index: 18 entries, 0 to 21\n",
      "Data columns (total 5 columns):\n",
      " #   Column           Non-Null Count  Dtype  \n",
      "---  ------           --------------  -----  \n",
      " 0   Average_Pulse    18 non-null     float64\n",
      " 1   Max_Pulse        18 non-null     float64\n",
      " 2   Calorie_Burnage  18 non-null     float64\n",
      " 3   Hours_Work       18 non-null     float64\n",
      " 4   Hours_Sleep      18 non-null     float64\n",
      "dtypes: float64(5)\n",
      "memory usage: 864.0 bytes\n",
      "None\n"
     ]
    }
   ],
   "source": [
    "print(data.info())"
   ],
   "metadata": {
    "collapsed": false,
    "pycharm": {
     "name": "#%%\n"
    }
   }
  },
  {
   "cell_type": "code",
   "execution_count": 30,
   "outputs": [
    {
     "name": "stdout",
     "output_type": "stream",
     "text": [
      "<class 'pandas.core.frame.DataFrame'>\n",
      "Int64Index: 18 entries, 0 to 21\n",
      "Data columns (total 5 columns):\n",
      " #   Column           Non-Null Count  Dtype  \n",
      "---  ------           --------------  -----  \n",
      " 0   Average_Pulse    18 non-null     float64\n",
      " 1   Max_Pulse        18 non-null     float64\n",
      " 2   Calorie_Burnage  18 non-null     float64\n",
      " 3   Hours_Work       18 non-null     float64\n",
      " 4   Hours_Sleep      18 non-null     float64\n",
      "dtypes: float64(5)\n",
      "memory usage: 864.0 bytes\n",
      "None\n"
     ]
    }
   ],
   "source": [
    "data = data.astype({\"Average_Pulse\":\"float64\",\"Max_Pulse\":\"float64\",\"Calorie_Burnage\":\"float64\",\"Hours_Work\":\"float64\"})\n",
    "print(data.info())"
   ],
   "metadata": {
    "collapsed": false,
    "pycharm": {
     "name": "#%%\n"
    }
   }
  },
  {
   "cell_type": "code",
   "execution_count": 29,
   "outputs": [
    {
     "name": "stdout",
     "output_type": "stream",
     "text": [
      "       Average_Pulse   Max_Pulse  Calorie_Burnage  Hours_Work  Hours_Sleep\n",
      "count      18.000000   18.000000        18.000000   18.000000    18.000000\n",
      "mean       85.000000  112.388889       175.000000    7.222222     7.500000\n",
      "std        35.188568   15.841639        35.188568    2.734433     0.618347\n",
      "min        30.000000   80.000000       120.000000    0.000000     6.000000\n",
      "25%        52.500000  101.250000       142.500000    8.000000     7.000000\n",
      "50%        92.500000  120.000000       182.500000    8.000000     8.000000\n",
      "75%       113.750000  125.000000       203.750000    8.000000     8.000000\n",
      "max       135.000000  130.000000       225.000000   10.000000     8.000000\n"
     ]
    }
   ],
   "source": [
    "print(data.describe())"
   ],
   "metadata": {
    "collapsed": false,
    "pycharm": {
     "name": "#%%\n"
    }
   }
  }
 ],
 "metadata": {
  "kernelspec": {
   "display_name": "Python 3",
   "language": "python",
   "name": "python3"
  },
  "language_info": {
   "codemirror_mode": {
    "name": "ipython",
    "version": 2
   },
   "file_extension": ".py",
   "mimetype": "text/x-python",
   "name": "python",
   "nbconvert_exporter": "python",
   "pygments_lexer": "ipython2",
   "version": "2.7.6"
  }
 },
 "nbformat": 4,
 "nbformat_minor": 0
}