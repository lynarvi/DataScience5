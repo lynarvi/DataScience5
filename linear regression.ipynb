{
 "cells": [
  {
   "cell_type": "code",
   "execution_count": 11,
   "metadata": {
    "collapsed": true
   },
   "outputs": [],
   "source": [
    "import matplotlib.pyplot as plt\n",
    "from scipy import stats\n",
    "import numpy as np"
   ]
  },
  {
   "cell_type": "code",
   "execution_count": 23,
   "outputs": [
    {
     "name": "stdout",
     "output_type": "stream",
     "text": [
      "0.5077227872157811\n"
     ]
    },
    {
     "data": {
      "text/plain": "<Figure size 432x288 with 1 Axes>",
      "image/png": "[encoded data removed]"
     },
     "metadata": {
      "needs_background": "light"
     },
     "output_type": "display_data"
    }
   ],
   "source": [
    "# Number 3\n",
    "x = [11,13,66,34,38,20,26,29,48,64,6,5,36,72,40,90,43,36,36,95,12,10]\n",
    "y = [26,34,90,33,38,20,56,2,47,15,38,20,26, 36,36,95,95,53,72,58,10]\n",
    "\n",
    "# fill in missing index in y\n",
    "y_mean = np.mean(y)\n",
    "y = [26,34,90,33,38,20,56,2,47,15,38,20,26, 36,36,95,95,53,72,58,10, y_mean]\n",
    "\n",
    "slope, intercept, r, p, std_err = stats.linregress(x, y)\n",
    "\n",
    "print(r)\n",
    "def func(x):\n",
    "    return slope * x + intercept\n",
    "model = list(map(func, x))\n",
    "\n",
    "plt.scatter(x, y)\n",
    "plt.plot(x, model)\n",
    "plt.show()\n",
    "\n",
    "# Since the value of r is 0.51, x and y have a moderately positive correlation. Therefore, we conclude that both x and y data are suitable for linear regression.\n",
    "\n"
   ],
   "metadata": {
    "collapsed": false,
    "pycharm": {
     "name": "#%%\n"
    }
   }
  },
  {
   "cell_type": "code",
   "execution_count": 24,
   "outputs": [
    {
     "name": "stdout",
     "output_type": "stream",
     "text": [
      "0.21436738292216176\n"
     ]
    }
   ],
   "source": [
    "# Number 4: relationship between x and y\n",
    "\n",
    "x = [12,9,6,5,7,8,7,2,17,2,9,4,11]\n",
    "y = [75,67,56,42,47,65,50,80,100,90,80,90,70]\n",
    "\n",
    "slope, intercept, r, p, std_err = stats.linregress(x, y)\n",
    "\n",
    "print(r)"
   ],
   "metadata": {
    "collapsed": false,
    "pycharm": {
     "name": "#%%\n"
    }
   }
  },
  {
   "cell_type": "code",
   "execution_count": null,
   "outputs": [],
   "source": [],
   "metadata": {
    "collapsed": false,
    "pycharm": {
     "name": "#%%\n"
    }
   }
  }
 ],
 "metadata": {
  "kernelspec": {
   "display_name": "Python 3",
   "language": "python",
   "name": "python3"
  },
  "language_info": {
   "codemirror_mode": {
    "name": "ipython",
    "version": 2
   },
   "file_extension": ".py",
   "mimetype": "text/x-python",
   "name": "python",
   "nbconvert_exporter": "python",
   "pygments_lexer": "ipython2",
   "version": "2.7.6"
  }
 },
 "nbformat": 4,
 "nbformat_minor": 0
}