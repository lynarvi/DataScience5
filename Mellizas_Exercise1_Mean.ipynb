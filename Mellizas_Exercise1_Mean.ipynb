{
  "nbformat": 4,
  "nbformat_minor": 0,
  "metadata": {
    "colab": {
      "name": "Mellizas_Exercise1_Mean.ipynb",
      "provenance": [],
      "authorship_tag": "ABX9TyPs2DUTMWnJPYkUYqiboDrJ",
      "include_colab_link": true
    },
    "kernelspec": {
      "name": "python3",
      "display_name": "Python 3"
    },
    "language_info": {
      "name": "python"
    }
  },
  "cells": [
    {
      "cell_type": "markdown",
      "metadata": {
        "id": "view-in-github",
        "colab_type": "text"
      },
      "source": [
        "<a href=\"https://colab.research.google.com/github/lynarvi/DataScience5/blob/main/Mellizas_Exercise1_Mean.ipynb\" target=\"_parent\"><img src=\"https://colab.research.google.com/assets/colab-badge.svg\" alt=\"Open In Colab\"/></a>"
      ]
    },
    {
      "cell_type": "code",
      "metadata": {
        "id": "iLUeOA7WQ6UT"
      },
      "source": [
        "import numpy as np"
      ],
      "execution_count": 5,
      "outputs": []
    },
    {
      "cell_type": "code",
      "metadata": {
        "colab": {
          "base_uri": "https://localhost:8080/"
        },
        "id": "dvxUSC-jRIJ3",
        "outputId": "0030fd31-9ae1-48b7-fe28-f02895984547"
      },
      "source": [
        "# 1.\tCalculate the average speed using NumPy mean(), given speed values:\n",
        "# speed = [98,84,87,88,111,50,104,87,94,78,80,85,86]\n",
        "\n",
        "speed = [98,84,87,88,111,50,104,87,94,78,80,85,86]\n",
        "print(speed)\n"
      ],
      "execution_count": 6,
      "outputs": [
        {
          "output_type": "stream",
          "name": "stdout",
          "text": [
            "[98, 84, 87, 88, 111, 50, 104, 87, 94, 78, 80, 85, 86]\n"
          ]
        }
      ]
    },
    {
      "cell_type": "code",
      "metadata": {
        "colab": {
          "base_uri": "https://localhost:8080/"
        },
        "id": "XtN_UUNnR6Z0",
        "outputId": "183865df-c4a2-44ed-cfb5-376f21c92681"
      },
      "source": [
        "# calculate the mean\n",
        "\n",
        "mean = np.mean(speed)\n",
        "print(mean)"
      ],
      "execution_count": 7,
      "outputs": [
        {
          "output_type": "stream",
          "name": "stdout",
          "text": [
            "87.07692307692308\n"
          ]
        }
      ]
    }
  ]
}