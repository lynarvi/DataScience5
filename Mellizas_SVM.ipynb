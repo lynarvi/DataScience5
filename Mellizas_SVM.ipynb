{
  "nbformat": 4,
  "nbformat_minor": 0,
  "metadata": {
    "colab": {
      "name": "Mellizas_SVM.ipynb",
      "provenance": [],
      "authorship_tag": "ABX9TyPpsxN9jMYNiDvJevyeNgzi",
      "include_colab_link": true
    },
    "kernelspec": {
      "name": "python3",
      "display_name": "Python 3"
    },
    "language_info": {
      "name": "python"
    }
  },
  "cells": [
    {
      "cell_type": "markdown",
      "metadata": {
        "id": "view-in-github",
        "colab_type": "text"
      },
      "source": [
        "<a href=\"https://colab.research.google.com/github/lynarvi/DataScience5/blob/main/Mellizas_SVM.ipynb\" target=\"_parent\"><img src=\"https://colab.research.google.com/assets/colab-badge.svg\" alt=\"Open In Colab\"/></a>"
      ]
    },
    {
      "cell_type": "code",
      "execution_count": 12,
      "metadata": {
        "id": "6douHoLWsK64"
      },
      "outputs": [],
      "source": [
        "#Import Library\n",
        "from sklearn import svm\n",
        "import pandas as pd\n",
        "from sklearn.metrics import accuracy_score\n",
        "from google.colab import drive\n",
        "import warnings\n",
        "warnings.filterwarnings('ignore')\n",
        "import urllib.request"
      ]
    },
    {
      "cell_type": "code",
      "source": [
        "url = \"https://drive.google.com/file/d/1RqZ2kkelIZszfy_TxFp76bnvIYnr53M3/view?usp=sharing\"\n",
        "file_id = url.split(\"/\")[-2]\n",
        "dwn_url = \"https://drive.google.com/uc?id=\" + file_id\n",
        "train = pd.read_csv(dwn_url)"
      ],
      "metadata": {
        "id": "7s5W1vPIslt-"
      },
      "execution_count": 13,
      "outputs": []
    },
    {
      "cell_type": "code",
      "source": [
        "train_y = train[\"Loan_Status\"]\n",
        "train_x=train.drop([\"Loan_Status\"],axis=1)"
      ],
      "metadata": {
        "id": "TYCiCDCRt1wB"
      },
      "execution_count": 14,
      "outputs": []
    },
    {
      "cell_type": "code",
      "source": [
        "url = \"https://drive.google.com/file/d/1GHbG7-IHc2-_v3x9ZEIXd2l0sRaZNL4Q/view?usp=sharing\"\n",
        "file_id = url.split(\"/\")[-2]\n",
        "dwn_url='https://drive.google.com/uc?id=' + file_id\n",
        "test = pd.read_csv(dwn_url)"
      ],
      "metadata": {
        "id": "O3olJrLeu1VH"
      },
      "execution_count": 15,
      "outputs": []
    },
    {
      "cell_type": "code",
      "source": [
        "test_y=test['Loan_Status']\n",
        "test_x=test.drop([\"Loan_Status\"],axis=1)"
      ],
      "metadata": {
        "id": "oe1zEQWqvEUJ"
      },
      "execution_count": 16,
      "outputs": []
    },
    {
      "cell_type": "code",
      "source": [
        "support = svm.LinearSVC(random_state=20)"
      ],
      "metadata": {
        "id": "qldaBdbcvJt6"
      },
      "execution_count": 17,
      "outputs": []
    },
    {
      "cell_type": "code",
      "source": [
        "support.fit(train_x, train_y)\n",
        "predicted= support.predict(test_x)\n",
        "score=accuracy_score(test_y,predicted)\n",
        "print(\"Your Model Accuracy is\", score)"
      ],
      "metadata": {
        "colab": {
          "base_uri": "https://localhost:8080/"
        },
        "id": "vW5DVQouvNWp",
        "outputId": "b083ee05-418f-4fc6-e51c-1bbb4f9e7368"
      },
      "execution_count": 18,
      "outputs": [
        {
          "output_type": "stream",
          "name": "stdout",
          "text": [
            "Your Model Accuracy is 0.6842105263157895\n"
          ]
        }
      ]
    },
    {
      "cell_type": "code",
      "source": [
        "df=pd.DataFrame(train) \n",
        "drive.mount('/gdrive')\n",
        "df.to_csv('/gdrive/My Drive/Data Science 5/prediction.csv', sep='\\t', encoding='utf-8', index=True, header=True)\n",
        "with open('/gdrive/My Drive/Data Science 5/prediction.csv', 'w') as f: \n",
        "  df.to_csv(f)"
      ],
      "metadata": {
        "colab": {
          "base_uri": "https://localhost:8080/"
        },
        "id": "6DkmAz34vXtJ",
        "outputId": "0a7ad9b5-4891-4b9f-f6a4-e8855ce94f45"
      },
      "execution_count": 11,
      "outputs": [
        {
          "output_type": "stream",
          "name": "stdout",
          "text": [
            "Mounted at /gdrive\n"
          ]
        }
      ]
    }
  ]
}