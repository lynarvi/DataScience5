{
  "nbformat": 4,
  "nbformat_minor": 0,
  "metadata": {
    "colab": {
      "name": "Mellizas_Exercise1_LinearReg.ipynb",
      "provenance": [],
      "authorship_tag": "ABX9TyNw6PoK3ez4LOp/QjCaC/wh",
      "include_colab_link": true
    },
    "kernelspec": {
      "name": "python3",
      "display_name": "Python 3"
    },
    "language_info": {
      "name": "python"
    }
  },
  "cells": [
    {
      "cell_type": "markdown",
      "metadata": {
        "id": "view-in-github",
        "colab_type": "text"
      },
      "source": [
        "<a href=\"https://colab.research.google.com/github/lynarvi/DataScience5/blob/main/Mellizas_Exercise1_LinearReg.ipynb\" target=\"_parent\"><img src=\"https://colab.research.google.com/assets/colab-badge.svg\" alt=\"Open In Colab\"/></a>"
      ]
    },
    {
      "cell_type": "code",
      "metadata": {
        "id": "JAMIyEWbspCe"
      },
      "source": [
        "import numpy as np\n",
        "import scipy\n",
        "import matplotlib.pyplot as plt"
      ],
      "execution_count": 3,
      "outputs": []
    },
    {
      "cell_type": "code",
      "metadata": {
        "colab": {
          "base_uri": "https://localhost:8080/",
          "height": 281
        },
        "id": "HX_TjsXxtCJ8",
        "outputId": "d3d680de-f139-4d62-bbd0-333ba16ccf9d"
      },
      "source": [
        "# 2.\tGiven a values of x and y;\n",
        "# x = [3,5,8,7,2,17,2,8,4,13,12,9,5]\n",
        "# y = [100,86,87,89,112,86,103,88,93,78,76,85,82]\n",
        "# Import the matplotlib and scipy and draw the line of Linear Regression.\n",
        "\n",
        "x = np.array([3,5,8,7,2,17,2,8,4,13,12,9,5])\n",
        "y = np.array([100,86,87,89,112,86,103,88,93,78,76,85,82])\n",
        "\n",
        "# plot \n",
        "plt.plot(x,y, 'o')\n",
        "m, b = np.polyfit(x,y, 1)\n",
        "plt.plot (x, m*x + b)"
      ],
      "execution_count": 4,
      "outputs": [
        {
          "output_type": "execute_result",
          "data": {
            "text/plain": [
              "[<matplotlib.lines.Line2D at 0x7fd4a3ccfed0>]"
            ]
          },
          "metadata": {},
          "execution_count": 4
        },
        {
          "output_type": "display_data",
          "data": {
            "image/png": "[encoded data removed]",
            "text/plain": [
              "<Figure size 432x288 with 1 Axes>"
            ]
          },
          "metadata": {
            "needs_background": "light"
          }
        }
      ]
    }
  ]
}